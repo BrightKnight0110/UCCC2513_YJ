{
 "cells": [
  {
   "cell_type": "code",
   "execution_count": 1,
   "id": "1d0b93fd",
   "metadata": {},
   "outputs": [
    {
     "data": {
      "text/plain": [
       "True"
      ]
     },
     "execution_count": 1,
     "metadata": {},
     "output_type": "execute_result"
    }
   ],
   "source": [
    "import sys\n",
    "# Python 3.7 is required\n",
    "assert sys.version_info >= (3,7)\n",
    "\n",
    "import cv2 as cv\n",
    "import numpy as np\n",
    "\n",
    "# Make sure that optimization is enabled\n",
    "if not cv.useOptimized():\n",
    "    cv.setUseOptimized(True)\n",
    "\n",
    "cv.useOptimized()"
   ]
  },
  {
   "cell_type": "code",
   "execution_count": null,
   "id": "29406dcf",
   "metadata": {},
   "outputs": [],
   "source": [
    "#1\n",
    "img = cv.imread('dog.jfif')\n",
    "img_copy = img.copy()\n",
    "\n",
    "def crop_grid(img, num_horizontal_grid, num_vertical_grid, line_color):\n",
    "    \n",
    "    height, width = img.shape[:2]\n",
    "    num_horizontal_patches = 2\n",
    "    num_vertical_patches = 3\n",
    "    #M and N are basically number of pixels per patch\n",
    "    M, N = int(height/num_horizontal_patches), int(width/num_vertical_patches)\n",
    "\n",
    "    x1, y1 = 0, 0\n",
    "\n",
    "    for y in range(0, height, M):\n",
    "        for x in range(0, width, N):\n",
    "            if (height - y) < M or (width - x) < N:\n",
    "                break\n",
    "            \n",
    "            y1 = y + M    # lower right coordinate that will be used to construct rectangle\n",
    "            x1 = x + N\n",
    "        \n",
    "            # Check whether patch lower right coordinate exceeds image height and width\n",
    "            if x1 >= width and y1 >= height:\n",
    "                x1 = width - 1\n",
    "                y1 = height - 1\n",
    "                tile = img[y:height, x:width]\n",
    "                cv.rectangle(img_copy, (x, y), (x1, y1), (0, 255, 0), 1)\n",
    "                cv.imshow('tile', tile)\n",
    "            # When patch lower right y-coordinate exceeds patch height\n",
    "            elif y1 >= height:\n",
    "                y1 = height - 1\n",
    "                cv.rectangle(img_copy, (x, y), (x1, y1), (0, 255, 0), 1)\n",
    "            \n",
    "            # When patch lower right x-coordinate exceeds patch width\n",
    "            elif x1 >= width:\n",
    "                x1 = width - 1\n",
    "                cv.rectangle(img_copy, (x, y), (x1, y1), (0, 255, 0), 1)\n",
    "        \n",
    "            else:\n",
    "                cv.rectangle(img_copy, (x, y), (x1, y1), (0, 255, 0), 1)\n",
    "\n",
    "crop_grid(img, 2, 3,(0,255,0))\n",
    "cv.imshow('patched image', img_copy)\n",
    "cv.waitKey(0)\n",
    "cv.destroyAllWindows()"
   ]
  },
  {
   "cell_type": "code",
   "execution_count": null,
   "id": "f3d8e17c",
   "metadata": {},
   "outputs": [],
   "source": [
    "#2 \n",
    "img_1 = cv.imread('lena.jfif')\n",
    "img_2 = cv.iread('coins.jfif')\n",
    "\n",
    "#resize img2\n",
    "new_shape = img_1.shape[:2]\n",
    "img_2 = cv.resize(img_2, new_shape)\n",
    "\n",
    "dst = cv.addWeighted(img_1, 0.35, img_2, 0.65,0)\n",
    "\n",
    "cv.imshow('image1',img_1)\n",
    "cv.imshow('reshape_2',img_2)\n",
    "cv.imshow('blend_image', dst)\n",
    "cv.waitKe(0)\n",
    "cv.destroyAllWindows()"
   ]
  },
  {
   "cell_type": "code",
   "execution_count": 3,
   "id": "3f8c46c0",
   "metadata": {},
   "outputs": [
    {
     "name": "stdout",
     "output_type": "stream",
     "text": [
      "Collecting imutils\n",
      "  Downloading imutils-0.5.4.tar.gz (17 kB)\n",
      "Building wheels for collected packages: imutils\n",
      "  Building wheel for imutils (setup.py): started\n",
      "  Building wheel for imutils (setup.py): finished with status 'done'\n",
      "  Created wheel for imutils: filename=imutils-0.5.4-py3-none-any.whl size=25872 sha256=27c991291bd633ee19736b66e430b8f101a85499e70990f126052f7d7e7d14a5\n",
      "  Stored in directory: c:\\users\\yj\\appdata\\local\\pip\\cache\\wheels\\4b\\a5\\2d\\4a070a801d3a3d93f033d3ee9728f470f514826e89952df3ea\n",
      "Successfully built imutils\n",
      "Installing collected packages: imutils\n",
      "Successfully installed imutils-0.5.4\n"
     ]
    }
   ],
   "source": [
    "#3\n",
    "!pip install imutils"
   ]
  },
  {
   "cell_type": "code",
   "execution_count": 5,
   "id": "1a9d0660",
   "metadata": {},
   "outputs": [],
   "source": [
    "import imutils as im\n",
    "img = cv.imread('lena.jfif')\n",
    "\n",
    "rot = im.rotate_bound(img, -45)\n",
    "\n",
    "cv.imshow('rotated_image', rot)\n",
    "cv.waitKey(0)\n",
    "cv.destroyAllWindows()"
   ]
  },
  {
   "cell_type": "code",
   "execution_count": 9,
   "id": "fb248bcb",
   "metadata": {},
   "outputs": [],
   "source": [
    "#4\n",
    "img_1 = cv.imread('flower.jfif')\n",
    "img_2 = cv.imread('native-bee.png')\n",
    "\n",
    "#resize image\n",
    "img_1 = cv.resize(img_1, (500,500), interpolation = cv.INTER_CUBIC)\n",
    "\n",
    "#transformation\n",
    "rows, cols = img_1.shape[:2]\n",
    "M = np.float32([[0.5, 0 ,15], [0,0.5,-35]])\n",
    "dst = cv.warpAffine(img_1, M, (cols, rows))\n",
    "\n",
    "#convert to grayscale\n",
    "img_1gray = cv.cvtColor(dst,cv.COLOR_BGR2GRAY)\n",
    "\n",
    "#flower segmentation\n",
    "ret, mask = cv.threshold(img_1gray, 80, 255, cv.THRESH_BINARY_INV)\n",
    "mask_inv = cv.bitwise_not(mask)\n",
    "\n",
    "#mask\n",
    "bee = cv.bitwise_and(img_2,img_2, mask = mask)\n",
    "flower = cv.bitwise_and(dst, dst, mask = mask_inv)\n",
    "final = cv.add(bee, flower)\n",
    "\n",
    "cv.imshow('flower_bee', final)\n",
    "cv.waitKey(0)\n",
    "cv.destroyAllWindows()\n"
   ]
  }
 ],
 "metadata": {
  "kernelspec": {
   "display_name": "Python 3 (ipykernel)",
   "language": "python",
   "name": "python3"
  },
  "language_info": {
   "codemirror_mode": {
    "name": "ipython",
    "version": 3
   },
   "file_extension": ".py",
   "mimetype": "text/x-python",
   "name": "python",
   "nbconvert_exporter": "python",
   "pygments_lexer": "ipython3",
   "version": "3.9.12"
  }
 },
 "nbformat": 4,
 "nbformat_minor": 5
}
