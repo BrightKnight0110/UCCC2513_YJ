{
 "cells": [
  {
   "cell_type": "code",
   "execution_count": 1,
   "id": "8860f785",
   "metadata": {},
   "outputs": [
    {
     "data": {
      "text/plain": [
       "'C:\\\\Users\\\\YJ\\\\Desktop\\\\Y2S2\\\\Mini Project\\\\Week 4'"
      ]
     },
     "execution_count": 1,
     "metadata": {},
     "output_type": "execute_result"
    }
   ],
   "source": [
    "%pwd"
   ]
  },
  {
   "cell_type": "code",
   "execution_count": 2,
   "id": "a80374d1",
   "metadata": {},
   "outputs": [],
   "source": [
    "import numpy as np"
   ]
  },
  {
   "cell_type": "code",
   "execution_count": 4,
   "id": "b00d262b",
   "metadata": {},
   "outputs": [
    {
     "name": "stdout",
     "output_type": "stream",
     "text": [
      "Collecting opencv-contrib-python\n",
      "  Downloading opencv_contrib_python-4.6.0.66-cp36-abi3-win_amd64.whl (42.5 MB)\n",
      "Requirement already satisfied: numpy>=1.17.3 in c:\\users\\yj\\anaconda3\\lib\\site-packages (from opencv-contrib-python) (1.21.5)\n",
      "Installing collected packages: opencv-contrib-python\n",
      "Successfully installed opencv-contrib-python-4.6.0.66\n"
     ]
    }
   ],
   "source": [
    "!pip install opencv-contrib-python"
   ]
  },
  {
   "cell_type": "code",
   "execution_count": 3,
   "id": "f36d7ceb",
   "metadata": {},
   "outputs": [],
   "source": [
    "import cv2 as cv"
   ]
  },
  {
   "cell_type": "code",
   "execution_count": 4,
   "id": "dd5ad8ee",
   "metadata": {},
   "outputs": [],
   "source": [
    "import imageio"
   ]
  },
  {
   "cell_type": "code",
   "execution_count": 8,
   "id": "8d5088bd",
   "metadata": {},
   "outputs": [],
   "source": [
    "#activity 1\n",
    "img = cv.imread('lena.jfif')    # default bgr \n",
    "img_grayscale = cv.imread('lena.jfif', 0)    # grayscale\n",
    "\n",
    "cv.imshow('original',img)\n",
    "cv.imshow('gray', img_grayscale)\n",
    "\n",
    "cv.waitKey(0)\n",
    "cv.destroyAllWindows()"
   ]
  },
  {
   "cell_type": "code",
   "execution_count": 14,
   "id": "489f48dc",
   "metadata": {},
   "outputs": [],
   "source": [
    "#activity 1\n",
    "img = cv.imread('lena.jfif')\n",
    "img_grayscale = cv.cvtColor(image, cv.COLOR_BGR2GRAY) # grayscale\n",
    "\n",
    "cv.imshow('Original',img)\n",
    "cv.imshow('Gray', gray)\n",
    "\n",
    "cv.waitKey(0)\n",
    "cv.destroyAllWindows()"
   ]
  },
  {
   "cell_type": "code",
   "execution_count": 9,
   "id": "fb354483",
   "metadata": {},
   "outputs": [],
   "source": [
    "#activity 2\n",
    "# Create a VideoCapture object\n",
    "cap = cv.VideoCapture('img_pexels.mp4')\n",
    "\n",
    "#frame resize\n",
    "cv.namedWindow('resize',0)\n",
    "cv.resizeWindow('resize', 300, 300)\n",
    "\n",
    "#define codec and create VideoWriter object\n",
    "fourcc = cv.VideoWriter_fourcc(*'XVID')\n",
    "fps = 30.0\n",
    "size = (200, 200)\n",
    "out = cv.VideoWriter('smaller_img_pexels.avi', fourcc, fps, size)\n",
    "\n",
    "# Check if the object has been created successfully\n",
    "if not cap.isOpened():\n",
    "    print(\"Unable to create video\")\n",
    "\n",
    "# Read until the video is completed.\n",
    "while cap.isOpened():\n",
    "    ret, frame = cap.read()\n",
    "    \n",
    "    # if frame is read then ret is True\n",
    "    if not ret:\n",
    "        print(\"Can't receive frame.\")\n",
    "        break\n",
    "      \n",
    "    #create vidout funct with res = 200x200\n",
    "    vidout = cv.resize(frame,(200,200))\n",
    "    #write frame of vidout function\n",
    "    out.write(vidout)\n",
    "    \n",
    "    cv.imshow('frame', frame)\n",
    "    # Press Esc key to exit (27 is ASCII code for Esc). cv.waitKey() returns 32 bit integer values. You can find the ASCII table\n",
    "    # on this URL: https://theasciicode.com.ar/\n",
    "    if cv.waitKey(1) & 0xFF == 27:\n",
    "        break\n",
    "\n",
    "# destroy the constructor\n",
    "cap.release()\n",
    "cv.destroyAllWindows()"
   ]
  },
  {
   "cell_type": "code",
   "execution_count": 7,
   "id": "992abef6",
   "metadata": {},
   "outputs": [],
   "source": [
    "#activity 3\n",
    "\n",
    "img = cv.imread('dog.png')\n",
    "\n",
    "noise = np.random.normal(0,1,img.size)\n",
    "noise = noise.reshape(img.shape[0],img.shape[1],img.shape[2]).astype('uint8')\n",
    "\n",
    "img_grayscale = cv.cvtColor(noise, cv.COLOR_BGR2GRAY)\n",
    "\n",
    "cv.imshow('random noise',noise)\n",
    "cv.imshow('random noise grayscale',img_grayscale)\n",
    "cv.waitKey(0)\n",
    "cv.destroyAllWindows()"
   ]
  },
  {
   "cell_type": "code",
   "execution_count": 16,
   "id": "6f1936a5",
   "metadata": {},
   "outputs": [
    {
     "ename": "ValueError",
     "evalue": "could not broadcast input array from shape (50,50,3) into shape (60,90,3)",
     "output_type": "error",
     "traceback": [
      "\u001b[1;31m---------------------------------------------------------------------------\u001b[0m",
      "\u001b[1;31mValueError\u001b[0m                                Traceback (most recent call last)",
      "Input \u001b[1;32mIn [16]\u001b[0m, in \u001b[0;36m<cell line: 5>\u001b[1;34m()\u001b[0m\n\u001b[0;32m      3\u001b[0m img\u001b[38;5;241m.\u001b[39mshape\n\u001b[0;32m      4\u001b[0m my_roi \u001b[38;5;241m=\u001b[39m img[:\u001b[38;5;241m50\u001b[39m, :\u001b[38;5;241m50\u001b[39m]\n\u001b[1;32m----> 5\u001b[0m img[\u001b[38;5;241m90\u001b[39m:\u001b[38;5;241m150\u001b[39m, \u001b[38;5;241m90\u001b[39m:\u001b[38;5;241m180\u001b[39m] \u001b[38;5;241m=\u001b[39m my_roi\n\u001b[0;32m      7\u001b[0m cv\u001b[38;5;241m.\u001b[39mimshow(\u001b[38;5;124m'\u001b[39m\u001b[38;5;124mROI_copy\u001b[39m\u001b[38;5;124m'\u001b[39m, img)\n\u001b[0;32m      8\u001b[0m cv\u001b[38;5;241m.\u001b[39mwaitKey(\u001b[38;5;241m0\u001b[39m)\n",
      "\u001b[1;31mValueError\u001b[0m: could not broadcast input array from shape (50,50,3) into shape (60,90,3)"
     ]
    }
   ],
   "source": [
    "#activity 4\n",
    "img = cv.imread('flower.jfif')\n",
    "img.shape\n",
    "my_roi = img[:50, :50]\n",
    "img[90:150, 90:180] = my_roi\n",
    "\n",
    "cv.imshow('ROI_copy', img)\n",
    "cv.waitKey(0)\n",
    "cv.destroyAllWindows()"
   ]
  },
  {
   "cell_type": "code",
   "execution_count": 25,
   "id": "cfefa001",
   "metadata": {},
   "outputs": [],
   "source": [
    "#activity 5\n",
    "#linear interpolation\n",
    "img = cv.imread('dog.jfif')\n",
    "img_resize = cv.resize(img, None, fx = 2, fy = 2, interpolation = cv.INTER_LINEAR)\n",
    "\n",
    "#cubic interpolation\n",
    "cubic_img = cv.resize(img,None, fx = 2, fy = 2, interpolation = cv.INTER_CUBIC)\n",
    "\n",
    "#nearest neighbor interpolation\n",
    "near_img = cv.resize(img,None, fx = 2, fy = 2, interpolation = cv.INTER_NEAREST)\n",
    "\n",
    "cv.imshow('upsize1', img_resize)\n",
    "cv.imshow('upsize2', cubic_img)\n",
    "cv.imshow('upsize3', near_img)\n",
    "cv.waitKey(0)\n",
    "cv.destroyAllWindows()"
   ]
  }
 ],
 "metadata": {
  "kernelspec": {
   "display_name": "Python 3 (ipykernel)",
   "language": "python",
   "name": "python3"
  },
  "language_info": {
   "codemirror_mode": {
    "name": "ipython",
    "version": 3
   },
   "file_extension": ".py",
   "mimetype": "text/x-python",
   "name": "python",
   "nbconvert_exporter": "python",
   "pygments_lexer": "ipython3",
   "version": "3.9.12"
  }
 },
 "nbformat": 4,
 "nbformat_minor": 5
}
