{
 "cells": [
  {
   "cell_type": "code",
   "execution_count": 1,
   "id": "3884f662",
   "metadata": {},
   "outputs": [],
   "source": [
    "import numpy as np\n",
    "import cv2 as cv \n",
    "import matplotlib.pyplot as plt"
   ]
  },
  {
   "cell_type": "markdown",
   "id": "dd6bb0a8",
   "metadata": {},
   "source": [
    "## Activity 1"
   ]
  },
  {
   "cell_type": "code",
   "execution_count": 2,
   "id": "2b78bf5d",
   "metadata": {},
   "outputs": [],
   "source": [
    "img = cv.imread('winter.jfif',0)\n",
    "\n",
    "# apply histogram equaliztion\n",
    "eq = cv.equalizeHist(img)\n",
    "eq2 = cv.equalizeHist(eq)\n",
    "\n",
    "\n",
    "cv.imshow('result', np.hstack((img, eq, eq2)))\n",
    "# no, there is no difference between two image\n",
    "cv.waitKey(0)\n",
    "cv.destroyAllWindows()"
   ]
  },
  {
   "cell_type": "markdown",
   "id": "676095d1",
   "metadata": {},
   "source": [
    "## Activity 2\n"
   ]
  },
  {
   "cell_type": "code",
   "execution_count": 3,
   "id": "796be361",
   "metadata": {},
   "outputs": [],
   "source": [
    "img = cv.imread('electronic.jfif')\n",
    "im = cv.GaussianBlur(img, (3,3),0)\n",
    "\n",
    "#without gaussian blur\n",
    "sobelx = cv.Sobel(img, cv.CV_64F, 1, 0, ksize = 3)\n",
    "abs_sobelx_8u = cv.convertScaleAbs(sobelx)\n",
    "\n",
    "sobely = cv.Sobel(img, cv.CV_64F, 0, 1, ksize = 3)\n",
    "abs_sobely_8u = cv.convertScaleAbs(sobely)\n",
    "\n",
    "#with gaussian blur\n",
    "sobelx_b = cv.Sobel(im, cv.CV_64F, 1, 0, ksize = 3)\n",
    "abs_sobelx_8u_b = cv.convertScaleAbs(sobelx_b)\n",
    "\n",
    "sobely_b = cv.Sobel(im, cv.CV_64F, 0, 1, ksize = 3)\n",
    "abs_sobely_8u_b = cv.convertScaleAbs(sobely_b)\n",
    "\n",
    "#combined both x and y\n",
    "mag_edge = cv.addWeighted(abs_sobelx_8u, 0.5, abs_sobely_8u, 0.5, 0)\n",
    "mag_edge_blur = cv.addWeighted(abs_sobelx_8u_b, 0.5, abs_sobely_8u_b, 0.5, 0)\n",
    "\n",
    "\n",
    "cv.imshow('result', np.hstack((mag_edge, mag_edge_blur)))\n",
    "cv.waitKey(0)\n",
    "cv.destroyAllWindows()"
   ]
  },
  {
   "cell_type": "code",
   "execution_count": 4,
   "id": "23d6ff55",
   "metadata": {},
   "outputs": [],
   "source": [
    "img = cv.imread('electronic.jfif')\n",
    "im = cv.GaussianBlur(img, (5,5), 0)\n",
    "\n",
    "# Laplacian of Gaussian\n",
    "laplacian = cv.Laplacian(im, cv.CV_64F, ksize = 3)\n",
    "laplacian_8u = np.uint8(np.absolute(laplacian))\n",
    "\n",
    "cv.imshow('Laplacian',laplacian_8u)\n",
    "cv.waitKey(0)\n",
    "cv.destroyAllWindows()\n",
    "\n",
    "# A) The kernel size is the most appropriate is 3"
   ]
  },
  {
   "cell_type": "markdown",
   "id": "08511bdb",
   "metadata": {},
   "source": [
    "## Activity  3"
   ]
  },
  {
   "cell_type": "code",
   "execution_count": 5,
   "id": "9b98627e",
   "metadata": {},
   "outputs": [],
   "source": [
    "img = cv.imread('pineapple.jfif')\n",
    "gray = cv.cvtColor(img, cv.COLOR_BGR2GRAY)\n",
    "im = cv.GaussianBlur(gray, (5,5), 0)\n",
    "\n",
    "#sobel\n",
    "sobelx = cv.Sobel(im, cv.CV_64F, 1, 0, ksize = 3)\n",
    "sobelx_8u = np.uint8(np.absolute(sobelx))\n",
    "sobely = cv.Sobel(im, cv.CV_64F, 0, 1, ksize = 3)\n",
    "sobely_8u = np.uint8(np.absolute(sobely))\n",
    "\n",
    "sobel = cv.add(sobelx_8u,sobely_8u)\n",
    "# medium thick edges, precise, but a little blurry.\n",
    "\n",
    "# laplacian\n",
    "laplacian = cv.Laplacian(im, cv.CV_64F, ksize = 3)\n",
    "laplacian_8u = np.uint8(np.absolute(laplacian))\n",
    "# thin edges, precise but too blurry\n",
    "    \n",
    "# Prewitt\n",
    "kernelx = np.array([[1,1,1],[0,0,0],[-1,-1,-1]])\n",
    "prewittx = cv.filter2D(im, -1, kernelx)\n",
    "kernely = np.array([[-1,0,1],[-1,0,1],[-1,0,1]])\n",
    "prewitty = cv.filter2D(im, -1, kernely)\n",
    "\n",
    "prewitt = cv.add(prewittx, prewitty)\n",
    "# medium thickness edges, not precise, clearear than sobel\n",
    "\n",
    "# Scharr derivatives\n",
    "scharrx = cv.Scharr(im, cv.CV_64F, 1, 0) \n",
    "scharr_x_abs = np.uint8(np.absolute(scharrx)) \n",
    "\n",
    "scharry = cv.Scharr(im, cv.CV_64F, 0, 1) \n",
    "scharr_y_abs = np.uint8(np.absolute(scharry)) \n",
    "scharr = cv.bitwise_or(scharr_y_abs,scharr_x_abs) \n",
    "# sharp edges but too detail\n",
    "\n",
    "# canny\n",
    "canny = cv.Canny(im, 100, 200, 3)\n",
    "# thin edges, precise and clear\n",
    "\n",
    "cv.imshow('Sobel', sobel)\n",
    "cv.imshow('Laplacian', laplacian_8u)\n",
    "cv.imshow('Prewitt', prewitt)\n",
    "cv.imshow('Scharr', scharr)\n",
    "cv.imshow('Canny', canny)\n",
    "cv.waitKey(0)\n",
    "cv.destroyAllWindows()\n"
   ]
  },
  {
   "cell_type": "markdown",
   "id": "eb6b9a6c",
   "metadata": {},
   "source": [
    "## Activity 4"
   ]
  },
  {
   "cell_type": "code",
   "execution_count": 6,
   "id": "46f2076a",
   "metadata": {},
   "outputs": [],
   "source": [
    "img = cv.imread('electronic.jfif')\n",
    "gray = cv.cvtColor(img,cv.COLOR_BGR2GRAY)\n",
    "\n",
    "ret,thresh = cv.threshold(gray,190,255,0)\n",
    "\n",
    "contours, hierarchy = cv.findContours(thresh,cv.RETR_TREE,cv.CHAIN_APPROX_SIMPLE)\n",
    "\n",
    "cv.drawContours(img,contours,-1,(0,0,255),2)\n",
    "\n",
    "cv.imshow('white object',img)\n",
    "cv.imshow('gray', thresh)\n",
    "cv.waitKey(0)\n",
    "cv.destroyAllWindows()"
   ]
  },
  {
   "cell_type": "code",
   "execution_count": 7,
   "id": "cb3494ca",
   "metadata": {},
   "outputs": [],
   "source": [
    "img = cv.imread('electronic.jfif')\n",
    "\n",
    "mask = cv.inRange(img, (160,160,160), (255,255,255))\n",
    "\n",
    "contours, hierarchy = cv.findContours(mask, cv.RETR_TREE, cv.CHAIN_APPROX_SIMPLE)\n",
    "\n",
    "cnt_list = np.zeros(len(contours))\n",
    "\n",
    "for i in range(0,len(contours)):\n",
    "    cnt_list[i] = cv.contourArea(contours[i])\n",
    "    \n",
    "largest_contour_index = np.argmax(cnt_list)\n",
    "largest_contour = contours[largest_contour_index]\n",
    "contour_mask = np.zeros(img.shape, dtype = np.uint8)\n",
    "\n",
    "if len(contours) != 0:\n",
    "    cv.drawContours(contour_mask, contours, largest_contour_index, (255,255,255), -1)\n",
    "\n",
    "boundingbox = img.copy()\n",
    "x,y,w,h = cv.boundingRect(largest_contour)\n",
    "cv.rectangle(boundingbox,(x,y),(x+w,y+h),(0,255,0),2)\n",
    "\n",
    "cv.imshow(\"wihte object\", boundingbox)\n",
    "cv.waitKey(0)\n",
    "cv.destroyAllWindows()"
   ]
  }
 ],
 "metadata": {
  "kernelspec": {
   "display_name": "Python 3 (ipykernel)",
   "language": "python",
   "name": "python3"
  },
  "language_info": {
   "codemirror_mode": {
    "name": "ipython",
    "version": 3
   },
   "file_extension": ".py",
   "mimetype": "text/x-python",
   "name": "python",
   "nbconvert_exporter": "python",
   "pygments_lexer": "ipython3",
   "version": "3.9.12"
  }
 },
 "nbformat": 4,
 "nbformat_minor": 5
}
