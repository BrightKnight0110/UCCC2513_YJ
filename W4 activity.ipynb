{
 "cells": [
  {
   "cell_type": "code",
   "execution_count": 1,
   "id": "8860f785",
   "metadata": {},
   "outputs": [
    {
     "data": {
      "text/plain": [
       "'C:\\\\Users\\\\YJ\\\\Desktop\\\\Y2S2\\\\Mini Project\\\\Week 4'"
      ]
     },
     "execution_count": 1,
     "metadata": {},
     "output_type": "execute_result"
    }
   ],
   "source": [
    "%pwd"
   ]
  },
  {
   "cell_type": "code",
   "execution_count": 2,
   "id": "a80374d1",
   "metadata": {},
   "outputs": [],
   "source": [
    "import numpy as np"
   ]
  },
  {
   "cell_type": "code",
   "execution_count": 31,
   "id": "b00d262b",
   "metadata": {},
   "outputs": [
    {
     "name": "stdout",
     "output_type": "stream",
     "text": [
      "Requirement already satisfied: opencv-contrib-python in c:\\users\\yj\\anaconda3\\lib\\site-packages (4.6.0.66)\n",
      "Requirement already satisfied: numpy>=1.14.5 in c:\\users\\yj\\anaconda3\\lib\\site-packages (from opencv-contrib-python) (1.21.5)\n"
     ]
    }
   ],
   "source": [
    "!pip install opencv-contrib-python"
   ]
  },
  {
   "cell_type": "code",
   "execution_count": 3,
   "id": "f36d7ceb",
   "metadata": {},
   "outputs": [],
   "source": [
    "import cv2 as cv"
   ]
  },
  {
   "cell_type": "code",
   "execution_count": 4,
   "id": "dd5ad8ee",
   "metadata": {},
   "outputs": [],
   "source": [
    "import imageio"
   ]
  },
  {
   "cell_type": "code",
   "execution_count": null,
   "id": "8d5088bd",
   "metadata": {},
   "outputs": [],
   "source": [
    "#activity 1\n",
    "img = cv.imread('lena.jfif')    # default bgr \n",
    "img_grayscale = cv.imread('lena.jfif', 0)    # grayscale\n",
    "\n",
    "cv.imshow('original',img)\n",
    "cv.imshow('gray', img_grayscale)\n",
    "\n",
    "cv.waitKey(0)\n",
    "cv.destroyAllWindows()"
   ]
  },
  {
   "cell_type": "code",
   "execution_count": null,
   "id": "489f48dc",
   "metadata": {},
   "outputs": [],
   "source": [
    "#activity 1\n",
    "img = cv.imread('lena.jfif')\n",
    "img_grayscale = cv.cvtColor(img, cv.COLOR_BGR2GRAY) # grayscale\n",
    "\n",
    "cv.imshow('Original',img)\n",
    "cv.imshow('Gray', img_grayscale)\n",
    "\n",
    "cv.waitKey(0)\n",
    "cv.destroyAllWindows()"
   ]
  },
  {
   "cell_type": "code",
   "execution_count": null,
   "id": "fb354483",
   "metadata": {},
   "outputs": [],
   "source": [
    "#activity 2\n",
    "# Create a VideoCapture object\n",
    "cap = cv.VideoCapture('img_pexels.mp4')\n",
    "\n",
    "#frame resize\n",
    "cv.namedWindow('resize',0)\n",
    "cv.resizeWindow('resize', 300, 300)\n",
    "\n",
    "#define codec and create VideoWriter object\n",
    "fourcc = cv.VideoWriter_fourcc(*'XVID')\n",
    "fps = 30.0\n",
    "size = (200, 200)\n",
    "out = cv.VideoWriter('smaller_img_pexels.avi', fourcc, fps, size)\n",
    "\n",
    "# Check if the object has been created successfully\n",
    "if not cap.isOpened():\n",
    "    print(\"Unable to create video\")\n",
    "\n",
    "# Read until the video is completed.\n",
    "while cap.isOpened():\n",
    "    ret, frame = cap.read()\n",
    "    \n",
    "    # if frame is read then ret is True\n",
    "    if not ret:\n",
    "        print(\"Can't receive frame.\")\n",
    "        break\n",
    "      \n",
    "    #create vidout funct with res = 200x200\n",
    "    vidout = cv.resize(frame,(200,200))\n",
    "    #write frame of vidout function\n",
    "    out.write(vidout)\n",
    "    \n",
    "    cv.imshow('frame', frame)\n",
    "    # Press Esc key to exit (27 is ASCII code for Esc). cv.waitKey() returns 32 bit integer values. You can find the ASCII table\n",
    "    # on this URL: https://theasciicode.com.ar/\n",
    "    if cv.waitKey(1) & 0xFF == 27:\n",
    "        break\n",
    "\n",
    "# destroy the constructor\n",
    "cap.release()\n",
    "cv.destroyAllWindows()"
   ]
  },
  {
   "cell_type": "code",
   "execution_count": null,
   "id": "992abef6",
   "metadata": {},
   "outputs": [],
   "source": [
    "#activity 3\n",
    "\n",
    "img = cv.imread('dog.png')\n",
    "\n",
    "noise = np.random.normal(0,1,img.size)\n",
    "noise = noise.reshape(img.shape[0],img.shape[1],img.shape[2]).astype('uint8')\n",
    "\n",
    "img_grayscale = cv.cvtColor(noise, cv.COLOR_BGR2GRAY)\n",
    "\n",
    "cv.imshow('random noise',noise)\n",
    "cv.imshow('random noise grayscale',img_grayscale)\n",
    "cv.waitKey(0)\n",
    "cv.destroyAllWindows()"
   ]
  },
  {
   "cell_type": "code",
   "execution_count": null,
   "id": "6f1936a5",
   "metadata": {},
   "outputs": [],
   "source": [
    "#activity 4\n",
    "img = cv.imread('flower.jfif')\n",
    "img.shape\n",
    "\n",
    "roi = img[36:121, 85:180] \n",
    "\n",
    "cv.imshow('ROI_copy', roi )\n",
    "cv.waitKey(0)\n",
    "cv.destroyAllWindows()"
   ]
  },
  {
   "cell_type": "code",
   "execution_count": null,
   "id": "cfefa001",
   "metadata": {},
   "outputs": [],
   "source": [
    "#activity 5\n",
    "#linear interpolation\n",
    "img = cv.imread('dog.jfif')\n",
    "img_resize = cv.resize(img, None, fx = 2, fy = 2, interpolation = cv.INTER_LINEAR)\n",
    "\n",
    "#cubic interpolation\n",
    "cubic_img = cv.resize(img,None, fx = 2, fy = 2, interpolation = cv.INTER_CUBIC)\n",
    "\n",
    "#nearest neighbor interpolation\n",
    "near_img = cv.resize(img,None, fx = 2, fy = 2, interpolation = cv.INTER_NEAREST)\n",
    "\n",
    "cv.imshow('upsize1', img_resize)\n",
    "cv.imshow('upsize2', cubic_img)\n",
    "cv.imshow('upsize3', near_img)\n",
    "cv.waitKey(0)\n",
    "cv.destroyAllWindows()"
   ]
  }
 ],
 "metadata": {
  "kernelspec": {
   "display_name": "Python 3 (ipykernel)",
   "language": "python",
   "name": "python3"
  },
  "language_info": {
   "codemirror_mode": {
    "name": "ipython",
    "version": 3
   },
   "file_extension": ".py",
   "mimetype": "text/x-python",
   "name": "python",
   "nbconvert_exporter": "python",
   "pygments_lexer": "ipython3",
   "version": "3.9.12"
  }
 },
 "nbformat": 4,
 "nbformat_minor": 5
}
